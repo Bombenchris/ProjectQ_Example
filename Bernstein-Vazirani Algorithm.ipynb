{
 "cells": [
  {
   "cell_type": "code",
   "execution_count": 1,
   "metadata": {},
   "outputs": [],
   "source": [
    "# Goal: find the secret bit-string s\n",
    "\n",
    "from projectq import MainEngine\n",
    "from projectq.ops import *\n",
    "from projectq.meta import Compute, Uncompute\n",
    "from projectq.backends import CircuitDrawer\n"
   ]
  },
  {
   "cell_type": "code",
   "execution_count": 2,
   "metadata": {},
   "outputs": [],
   "source": [
    "# set the secretnumber\n",
    "secretnumber = '10111001001'\n",
    "n = len(secretnumber)"
   ]
  },
  {
   "cell_type": "code",
   "execution_count": 3,
   "metadata": {},
   "outputs": [
    {
     "name": "stdout",
     "output_type": "stream",
     "text": [
      "(Note: This is the (slow) Python simulator.)\n"
     ]
    }
   ],
   "source": [
    "# initiate circuit\n",
    "# drawing_engine = CircuitDrawer()\n",
    "# eng = MainEngine(backend = drawing_engine)\n",
    "eng = MainEngine()\n",
    "qureg = eng.allocate_qureg(n + 1)\n",
    "\n",
    "# implement Algorithm\n",
    "with Compute(eng):\n",
    "    X | qureg[n]\n",
    "    Barrier | qureg\n",
    "    All(H) | qureg\n",
    "\n",
    "Barrier | qureg\n",
    "\n",
    "for ii, yesno in enumerate(secretnumber):\n",
    "    if yesno == '1':\n",
    "        CNOT | (qureg[ii],qureg[n]) # different display sequence vs. Qiskit\n",
    "\n",
    "Barrier | qureg\n",
    "\n",
    "Uncompute(eng)\n",
    "for i in range(n):\n",
    "    Measure | qureg[i]\n",
    "\n",
    "eng.flush()"
   ]
  },
  {
   "cell_type": "code",
   "execution_count": 4,
   "metadata": {},
   "outputs": [
    {
     "name": "stdout",
     "output_type": "stream",
     "text": [
      "Measured [1, 0, 1, 1, 1, 0, 0, 1, 0, 0, 1]\n"
     ]
    }
   ],
   "source": [
    "print(\"Measured {}\".format([ int(qubit) for qubit in qureg[:-1] ] ))\n",
    "\n",
    "with open('Bernstein-Vazirani algorithm.tex','w') as fd:\n",
    "    fd.write(drawing_engine.get_latex())"
   ]
  },
  {
   "cell_type": "code",
   "execution_count": null,
   "metadata": {},
   "outputs": [],
   "source": []
  }
 ],
 "metadata": {
  "kernelspec": {
   "display_name": "Python 3",
   "language": "python",
   "name": "python3"
  },
  "language_info": {
   "codemirror_mode": {
    "name": "ipython",
    "version": 3
   },
   "file_extension": ".py",
   "mimetype": "text/x-python",
   "name": "python",
   "nbconvert_exporter": "python",
   "pygments_lexer": "ipython3",
   "version": "3.7.3"
  }
 },
 "nbformat": 4,
 "nbformat_minor": 2
}
