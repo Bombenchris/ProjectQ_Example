{
 "cells": [
  {
   "cell_type": "markdown",
   "metadata": {},
   "source": [
    "# Quantum Teleportation"
   ]
  },
  {
   "cell_type": "code",
   "execution_count": 1,
   "metadata": {},
   "outputs": [],
   "source": [
    "from projectq import MainEngine\n",
    "from projectq.backends import CircuitDrawer\n",
    "from projectq.ops import *"
   ]
  },
  {
   "cell_type": "code",
   "execution_count": 2,
   "metadata": {},
   "outputs": [],
   "source": [
    "# simple function that applies a series of unitary gates from a given string\n",
    "def state_creation_function(secret_unitary, qubit):\n",
    "    functionmap = {\n",
    "                    'X':X,\n",
    "                    'Y':Y,\n",
    "                    'Z':Z,\n",
    "                    'H':H,                    \n",
    "                                        \n",
    "    }\n",
    "    \n",
    "    [functionmap[unitary] | qubit for unitary in secret_unitary[::-1]]"
   ]
  },
  {
   "cell_type": "code",
   "execution_count": 4,
   "metadata": {},
   "outputs": [
    {
     "name": "stdout",
     "output_type": "stream",
     "text": [
      "(Note: This is the (slow) Python simulator.)\n"
     ]
    }
   ],
   "source": [
    "# create a main compiler engine\n",
    "# drawing_engine = CircuitDrawer()\n",
    "\n",
    "eng = MainEngine()\n",
    "\n",
    "# create quantum circuit\n",
    "qureg = eng.allocate_qureg(3)\n"
   ]
  },
  {
   "cell_type": "code",
   "execution_count": 5,
   "metadata": {},
   "outputs": [],
   "source": [
    "# generate the information that Alice want to sent to Bob\n",
    "encoded_gate = 'H'\n",
    "state_creation_function(encoded_gate,qureg[0])\n",
    "\n",
    "Barrier | qureg\n",
    "\n",
    "# generate the entangled pair between Alice and Bob\n",
    "H | qureg[1]\n",
    "CNOT | (qureg[1],qureg[2])\n",
    "Barrier | qureg"
   ]
  },
  {
   "cell_type": "code",
   "execution_count": 12,
   "metadata": {},
   "outputs": [
    {
     "name": "stdout",
     "output_type": "stream",
     "text": [
      "Measured [1, 0, 1]\n"
     ]
    }
   ],
   "source": [
    "# Apply teleportation protocol\n",
    "CNOT | (qureg[0],qureg[1])\n",
    "H | qureg[0]\n",
    "Measure | qureg[0]\n",
    "Measure | qureg[1]\n",
    "\n",
    "CNOT | (qureg[1],qureg[2])\n",
    "CZ | (qureg[0],qureg[2])\n",
    "Barrier | qureg\n",
    "\n",
    "\n",
    "Measure | qureg[2]\n",
    "\n",
    "eng.flush()\n",
    "print(\"Measured {}\".format([ int(qubit) for qubit in qureg]))  "
   ]
  },
  {
   "cell_type": "code",
   "execution_count": 9,
   "metadata": {},
   "outputs": [],
   "source": [
    "\n",
    "# print(drawing_engine.get_latex())\n",
    "# with open('quantum_Teleportation.tex','w') as fd:\n",
    "#     fd.write(drawing_engine.get_latex())"
   ]
  },
  {
   "cell_type": "code",
   "execution_count": null,
   "metadata": {},
   "outputs": [],
   "source": []
  },
  {
   "cell_type": "code",
   "execution_count": null,
   "metadata": {},
   "outputs": [],
   "source": []
  }
 ],
 "metadata": {
  "kernelspec": {
   "display_name": "Python 3",
   "language": "python",
   "name": "python3"
  },
  "language_info": {
   "codemirror_mode": {
    "name": "ipython",
    "version": 3
   },
   "file_extension": ".py",
   "mimetype": "text/x-python",
   "name": "python",
   "nbconvert_exporter": "python",
   "pygments_lexer": "ipython3",
   "version": "3.7.3"
  }
 },
 "nbformat": 4,
 "nbformat_minor": 2
}
