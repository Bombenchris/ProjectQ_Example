{
 "cells": [
  {
   "cell_type": "code",
   "execution_count": 4,
   "metadata": {},
   "outputs": [],
   "source": [
    "# for 2 qubits with s = 11 \n",
    "\n",
    "from projectq import MainEngine\n",
    "from projectq.ops import *\n",
    "from projectq.backends import CircuitDrawer"
   ]
  },
  {
   "cell_type": "code",
   "execution_count": 5,
   "metadata": {},
   "outputs": [],
   "source": [
    "s = '11'\n",
    "n = len(str(s))"
   ]
  },
  {
   "cell_type": "code",
   "execution_count": 6,
   "metadata": {},
   "outputs": [],
   "source": [
    "# creating registers \n",
    "drawing_engine = CircuitDrawer()\n",
    "eng = MainEngine(backend = drawing_engine)\n",
    "\n",
    "qureg = eng.allocate_qureg(2*n)\n",
    "\n",
    "# Applied Hadamard gates to the input register before querying the oracle\n",
    "for i in range(n):\n",
    "    H | qureg[i]\n",
    "    \n",
    "Barrier | qureg\n",
    "\n",
    "# Apply the query function\n",
    "## 2 - qubit oracle for s = 11\n",
    "CNOT | (qureg[0],qureg[n])\n",
    "CNOT | (qureg[0],qureg[n + 1])\n",
    "CNOT | (qureg[1],qureg[n])\n",
    "CNOT | (qureg[1],qureg[n + 1])\n",
    "\n",
    "Barrier | qureg\n",
    "\n",
    "# measure ancilla qubits\n",
    "for i in range(n,2*n):\n",
    "    Measure | qureg[i]\n",
    "\n",
    "Barrier | qureg\n",
    "\n",
    "# apply Hadamard gates to the input register\n",
    "for i in range(len(str(s))):\n",
    "    H | qureg[i]\n",
    "    \n",
    "Barrier | qureg\n",
    "\n",
    "# measure input register\n",
    "for i in range(n):\n",
    "    Measure | qureg[i]\n",
    "\n",
    "eng.flush()"
   ]
  },
  {
   "cell_type": "code",
   "execution_count": 7,
   "metadata": {},
   "outputs": [],
   "source": [
    "# print(\"Measured {}\".format([ int(qubit) for qubit in qureg[:-1] ] ))\n",
    "\n",
    "with open('Simon Algorithm.tex','w') as fd:\n",
    "    fd.write(drawing_engine.get_latex())"
   ]
  },
  {
   "cell_type": "code",
   "execution_count": null,
   "metadata": {},
   "outputs": [],
   "source": []
  }
 ],
 "metadata": {
  "kernelspec": {
   "display_name": "Python 3",
   "language": "python",
   "name": "python3"
  },
  "language_info": {
   "codemirror_mode": {
    "name": "ipython",
    "version": 3
   },
   "file_extension": ".py",
   "mimetype": "text/x-python",
   "name": "python",
   "nbconvert_exporter": "python",
   "pygments_lexer": "ipython3",
   "version": "3.7.3"
  }
 },
 "nbformat": 4,
 "nbformat_minor": 2
}
